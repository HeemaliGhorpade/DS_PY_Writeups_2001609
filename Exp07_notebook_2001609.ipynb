{
  "nbformat": 4,
  "nbformat_minor": 0,
  "metadata": {
    "colab": {
      "provenance": [],
      "authorship_tag": "ABX9TyP56Ng/N8/aEsW219tpOGrQ",
      "include_colab_link": true
    },
    "kernelspec": {
      "name": "python3",
      "display_name": "Python 3"
    },
    "language_info": {
      "name": "python"
    }
  },
  "cells": [
    {
      "cell_type": "markdown",
      "metadata": {
        "id": "view-in-github",
        "colab_type": "text"
      },
      "source": [
        "<a href=\"https://colab.research.google.com/github/HeemaliGhorpade/DS_PY_Writeups_2001609/blob/main/Exp07_notebook_2001609.ipynb\" target=\"_parent\"><img src=\"https://colab.research.google.com/assets/colab-badge.svg\" alt=\"Open In Colab\"/></a>"
      ]
    },
    {
      "cell_type": "markdown",
      "source": [
        "# **EXPERIMENT NO. 07**"
      ],
      "metadata": {
        "id": "6fEf8Xe00NFi"
      }
    },
    {
      "cell_type": "markdown",
      "source": [
        "My serial number in attendance list is** x = 9 **and I choose dataset index **y = 27**  as this data se index follows the relation : y % x == 0 (27 % 9 == 3)   \n",
        "\n",
        "From the collection of 324 standard datasets from UCI I choose the dataset ⬇ \n",
        "\n",
        "**27. Bar Crawl: Detecting Heavy Drinking: Accelerometer and transdermal alcohol content data from a college bar crawl. Used to predict heavy drinking episodes via mobile data**"
      ],
      "metadata": {
        "id": "b_n1UbUbwEyW"
      }
    },
    {
      "cell_type": "markdown",
      "source": [
        "# **QUESTION AND ANSWERS**"
      ],
      "metadata": {
        "id": "Had0ikVCOUVx"
      }
    },
    {
      "cell_type": "markdown",
      "source": [
        "**a. Check Descriptive Statistics**"
      ],
      "metadata": {
        "id": "_l36wr0_OmN_"
      }
    },
    {
      "cell_type": "code",
      "source": [
        "import pandas as pd\n",
        "accelerometer_info = pd.read_csv(\"https://media.githubusercontent.com/media/HeemaliGhorpade/DS_PY_Writeups_2001609/main/accelerator.csv\")\n",
        "accelerometer_info"
      ],
      "metadata": {
        "colab": {
          "base_uri": "https://localhost:8080/",
          "height": 424
        },
        "id": "qgu35tiQvAwG",
        "outputId": "40444ba5-c571-418f-ecb7-701f2f3197ec"
      },
      "execution_count": 46,
      "outputs": [
        {
          "output_type": "execute_result",
          "data": {
            "text/plain": [
              "                 time     pid         x         y         z\n",
              "0        0.000000e+00  JB3156  0.000000  0.000000  0.000000\n",
              "1        0.000000e+00  CC6740  0.000000  0.000000  0.000000\n",
              "2        1.493730e+12  SA0297  0.075800  0.027300 -0.010200\n",
              "3        1.493730e+12  SA0297 -0.035900  0.079400  0.003700\n",
              "4        1.493730e+12  SA0297 -0.242700 -0.086100 -0.016300\n",
              "...               ...     ...       ...       ...       ...\n",
              "1048570  1.493740e+12  JB3156 -0.790259 -0.879167 -0.254394\n",
              "1048571  1.493740e+12  HV0618 -0.036200 -0.085200  0.005500\n",
              "1048572  1.493740e+12  BK7610 -0.217200 -0.184400 -0.434500\n",
              "1048573  1.493740e+12  SF3079  0.030300  0.098100  0.098000\n",
              "1048574  1.493740e+12  CC6740  0.020966 -0.010933  0.145366\n",
              "\n",
              "[1048575 rows x 5 columns]"
            ],
            "text/html": [
              "\n",
              "  <div id=\"df-350f4528-231a-4b18-bc08-daef4f2512fb\">\n",
              "    <div class=\"colab-df-container\">\n",
              "      <div>\n",
              "<style scoped>\n",
              "    .dataframe tbody tr th:only-of-type {\n",
              "        vertical-align: middle;\n",
              "    }\n",
              "\n",
              "    .dataframe tbody tr th {\n",
              "        vertical-align: top;\n",
              "    }\n",
              "\n",
              "    .dataframe thead th {\n",
              "        text-align: right;\n",
              "    }\n",
              "</style>\n",
              "<table border=\"1\" class=\"dataframe\">\n",
              "  <thead>\n",
              "    <tr style=\"text-align: right;\">\n",
              "      <th></th>\n",
              "      <th>time</th>\n",
              "      <th>pid</th>\n",
              "      <th>x</th>\n",
              "      <th>y</th>\n",
              "      <th>z</th>\n",
              "    </tr>\n",
              "  </thead>\n",
              "  <tbody>\n",
              "    <tr>\n",
              "      <th>0</th>\n",
              "      <td>0.000000e+00</td>\n",
              "      <td>JB3156</td>\n",
              "      <td>0.000000</td>\n",
              "      <td>0.000000</td>\n",
              "      <td>0.000000</td>\n",
              "    </tr>\n",
              "    <tr>\n",
              "      <th>1</th>\n",
              "      <td>0.000000e+00</td>\n",
              "      <td>CC6740</td>\n",
              "      <td>0.000000</td>\n",
              "      <td>0.000000</td>\n",
              "      <td>0.000000</td>\n",
              "    </tr>\n",
              "    <tr>\n",
              "      <th>2</th>\n",
              "      <td>1.493730e+12</td>\n",
              "      <td>SA0297</td>\n",
              "      <td>0.075800</td>\n",
              "      <td>0.027300</td>\n",
              "      <td>-0.010200</td>\n",
              "    </tr>\n",
              "    <tr>\n",
              "      <th>3</th>\n",
              "      <td>1.493730e+12</td>\n",
              "      <td>SA0297</td>\n",
              "      <td>-0.035900</td>\n",
              "      <td>0.079400</td>\n",
              "      <td>0.003700</td>\n",
              "    </tr>\n",
              "    <tr>\n",
              "      <th>4</th>\n",
              "      <td>1.493730e+12</td>\n",
              "      <td>SA0297</td>\n",
              "      <td>-0.242700</td>\n",
              "      <td>-0.086100</td>\n",
              "      <td>-0.016300</td>\n",
              "    </tr>\n",
              "    <tr>\n",
              "      <th>...</th>\n",
              "      <td>...</td>\n",
              "      <td>...</td>\n",
              "      <td>...</td>\n",
              "      <td>...</td>\n",
              "      <td>...</td>\n",
              "    </tr>\n",
              "    <tr>\n",
              "      <th>1048570</th>\n",
              "      <td>1.493740e+12</td>\n",
              "      <td>JB3156</td>\n",
              "      <td>-0.790259</td>\n",
              "      <td>-0.879167</td>\n",
              "      <td>-0.254394</td>\n",
              "    </tr>\n",
              "    <tr>\n",
              "      <th>1048571</th>\n",
              "      <td>1.493740e+12</td>\n",
              "      <td>HV0618</td>\n",
              "      <td>-0.036200</td>\n",
              "      <td>-0.085200</td>\n",
              "      <td>0.005500</td>\n",
              "    </tr>\n",
              "    <tr>\n",
              "      <th>1048572</th>\n",
              "      <td>1.493740e+12</td>\n",
              "      <td>BK7610</td>\n",
              "      <td>-0.217200</td>\n",
              "      <td>-0.184400</td>\n",
              "      <td>-0.434500</td>\n",
              "    </tr>\n",
              "    <tr>\n",
              "      <th>1048573</th>\n",
              "      <td>1.493740e+12</td>\n",
              "      <td>SF3079</td>\n",
              "      <td>0.030300</td>\n",
              "      <td>0.098100</td>\n",
              "      <td>0.098000</td>\n",
              "    </tr>\n",
              "    <tr>\n",
              "      <th>1048574</th>\n",
              "      <td>1.493740e+12</td>\n",
              "      <td>CC6740</td>\n",
              "      <td>0.020966</td>\n",
              "      <td>-0.010933</td>\n",
              "      <td>0.145366</td>\n",
              "    </tr>\n",
              "  </tbody>\n",
              "</table>\n",
              "<p>1048575 rows × 5 columns</p>\n",
              "</div>\n",
              "      <button class=\"colab-df-convert\" onclick=\"convertToInteractive('df-350f4528-231a-4b18-bc08-daef4f2512fb')\"\n",
              "              title=\"Convert this dataframe to an interactive table.\"\n",
              "              style=\"display:none;\">\n",
              "        \n",
              "  <svg xmlns=\"http://www.w3.org/2000/svg\" height=\"24px\"viewBox=\"0 0 24 24\"\n",
              "       width=\"24px\">\n",
              "    <path d=\"M0 0h24v24H0V0z\" fill=\"none\"/>\n",
              "    <path d=\"M18.56 5.44l.94 2.06.94-2.06 2.06-.94-2.06-.94-.94-2.06-.94 2.06-2.06.94zm-11 1L8.5 8.5l.94-2.06 2.06-.94-2.06-.94L8.5 2.5l-.94 2.06-2.06.94zm10 10l.94 2.06.94-2.06 2.06-.94-2.06-.94-.94-2.06-.94 2.06-2.06.94z\"/><path d=\"M17.41 7.96l-1.37-1.37c-.4-.4-.92-.59-1.43-.59-.52 0-1.04.2-1.43.59L10.3 9.45l-7.72 7.72c-.78.78-.78 2.05 0 2.83L4 21.41c.39.39.9.59 1.41.59.51 0 1.02-.2 1.41-.59l7.78-7.78 2.81-2.81c.8-.78.8-2.07 0-2.86zM5.41 20L4 18.59l7.72-7.72 1.47 1.35L5.41 20z\"/>\n",
              "  </svg>\n",
              "      </button>\n",
              "      \n",
              "  <style>\n",
              "    .colab-df-container {\n",
              "      display:flex;\n",
              "      flex-wrap:wrap;\n",
              "      gap: 12px;\n",
              "    }\n",
              "\n",
              "    .colab-df-convert {\n",
              "      background-color: #E8F0FE;\n",
              "      border: none;\n",
              "      border-radius: 50%;\n",
              "      cursor: pointer;\n",
              "      display: none;\n",
              "      fill: #1967D2;\n",
              "      height: 32px;\n",
              "      padding: 0 0 0 0;\n",
              "      width: 32px;\n",
              "    }\n",
              "\n",
              "    .colab-df-convert:hover {\n",
              "      background-color: #E2EBFA;\n",
              "      box-shadow: 0px 1px 2px rgba(60, 64, 67, 0.3), 0px 1px 3px 1px rgba(60, 64, 67, 0.15);\n",
              "      fill: #174EA6;\n",
              "    }\n",
              "\n",
              "    [theme=dark] .colab-df-convert {\n",
              "      background-color: #3B4455;\n",
              "      fill: #D2E3FC;\n",
              "    }\n",
              "\n",
              "    [theme=dark] .colab-df-convert:hover {\n",
              "      background-color: #434B5C;\n",
              "      box-shadow: 0px 1px 3px 1px rgba(0, 0, 0, 0.15);\n",
              "      filter: drop-shadow(0px 1px 2px rgba(0, 0, 0, 0.3));\n",
              "      fill: #FFFFFF;\n",
              "    }\n",
              "  </style>\n",
              "\n",
              "      <script>\n",
              "        const buttonEl =\n",
              "          document.querySelector('#df-350f4528-231a-4b18-bc08-daef4f2512fb button.colab-df-convert');\n",
              "        buttonEl.style.display =\n",
              "          google.colab.kernel.accessAllowed ? 'block' : 'none';\n",
              "\n",
              "        async function convertToInteractive(key) {\n",
              "          const element = document.querySelector('#df-350f4528-231a-4b18-bc08-daef4f2512fb');\n",
              "          const dataTable =\n",
              "            await google.colab.kernel.invokeFunction('convertToInteractive',\n",
              "                                                     [key], {});\n",
              "          if (!dataTable) return;\n",
              "\n",
              "          const docLinkHtml = 'Like what you see? Visit the ' +\n",
              "            '<a target=\"_blank\" href=https://colab.research.google.com/notebooks/data_table.ipynb>data table notebook</a>'\n",
              "            + ' to learn more about interactive tables.';\n",
              "          element.innerHTML = '';\n",
              "          dataTable['output_type'] = 'display_data';\n",
              "          await google.colab.output.renderOutput(dataTable, element);\n",
              "          const docLink = document.createElement('div');\n",
              "          docLink.innerHTML = docLinkHtml;\n",
              "          element.appendChild(docLink);\n",
              "        }\n",
              "      </script>\n",
              "    </div>\n",
              "  </div>\n",
              "  "
            ]
          },
          "metadata": {},
          "execution_count": 46
        }
      ]
    },
    {
      "cell_type": "code",
      "source": [
        "import pandas as pd\n",
        "phone_info = pd.read_csv(\"https://media.githubusercontent.com/media/HeemaliGhorpade/DS_PY_Writeups_2001609/main/phone.csv\")\n",
        "phone_info"
      ],
      "metadata": {
        "colab": {
          "base_uri": "https://localhost:8080/",
          "height": 457
        },
        "id": "Un3hUjFuLXKG",
        "outputId": "7c5a843e-0d48-425e-d3cf-000c6e434b2b"
      },
      "execution_count": 48,
      "outputs": [
        {
          "output_type": "execute_result",
          "data": {
            "text/plain": [
              "       pid phonetype\n",
              "0   BK7610    iPhone\n",
              "1   BU4707    iPhone\n",
              "2   CC6740   Android\n",
              "3   DC6359    iPhone\n",
              "4   DK3500    iPhone\n",
              "5   HV0618    iPhone\n",
              "6   JB3156   Android\n",
              "7   JR8022    iPhone\n",
              "8   MC7070    iPhone\n",
              "9   MJ8002    iPhone\n",
              "10  PC6771    iPhone\n",
              "11  SA0297    iPhone\n",
              "12  SF3079    iPhone"
            ],
            "text/html": [
              "\n",
              "  <div id=\"df-8bb05240-d2ad-44ae-a2e4-948899a398bf\">\n",
              "    <div class=\"colab-df-container\">\n",
              "      <div>\n",
              "<style scoped>\n",
              "    .dataframe tbody tr th:only-of-type {\n",
              "        vertical-align: middle;\n",
              "    }\n",
              "\n",
              "    .dataframe tbody tr th {\n",
              "        vertical-align: top;\n",
              "    }\n",
              "\n",
              "    .dataframe thead th {\n",
              "        text-align: right;\n",
              "    }\n",
              "</style>\n",
              "<table border=\"1\" class=\"dataframe\">\n",
              "  <thead>\n",
              "    <tr style=\"text-align: right;\">\n",
              "      <th></th>\n",
              "      <th>pid</th>\n",
              "      <th>phonetype</th>\n",
              "    </tr>\n",
              "  </thead>\n",
              "  <tbody>\n",
              "    <tr>\n",
              "      <th>0</th>\n",
              "      <td>BK7610</td>\n",
              "      <td>iPhone</td>\n",
              "    </tr>\n",
              "    <tr>\n",
              "      <th>1</th>\n",
              "      <td>BU4707</td>\n",
              "      <td>iPhone</td>\n",
              "    </tr>\n",
              "    <tr>\n",
              "      <th>2</th>\n",
              "      <td>CC6740</td>\n",
              "      <td>Android</td>\n",
              "    </tr>\n",
              "    <tr>\n",
              "      <th>3</th>\n",
              "      <td>DC6359</td>\n",
              "      <td>iPhone</td>\n",
              "    </tr>\n",
              "    <tr>\n",
              "      <th>4</th>\n",
              "      <td>DK3500</td>\n",
              "      <td>iPhone</td>\n",
              "    </tr>\n",
              "    <tr>\n",
              "      <th>5</th>\n",
              "      <td>HV0618</td>\n",
              "      <td>iPhone</td>\n",
              "    </tr>\n",
              "    <tr>\n",
              "      <th>6</th>\n",
              "      <td>JB3156</td>\n",
              "      <td>Android</td>\n",
              "    </tr>\n",
              "    <tr>\n",
              "      <th>7</th>\n",
              "      <td>JR8022</td>\n",
              "      <td>iPhone</td>\n",
              "    </tr>\n",
              "    <tr>\n",
              "      <th>8</th>\n",
              "      <td>MC7070</td>\n",
              "      <td>iPhone</td>\n",
              "    </tr>\n",
              "    <tr>\n",
              "      <th>9</th>\n",
              "      <td>MJ8002</td>\n",
              "      <td>iPhone</td>\n",
              "    </tr>\n",
              "    <tr>\n",
              "      <th>10</th>\n",
              "      <td>PC6771</td>\n",
              "      <td>iPhone</td>\n",
              "    </tr>\n",
              "    <tr>\n",
              "      <th>11</th>\n",
              "      <td>SA0297</td>\n",
              "      <td>iPhone</td>\n",
              "    </tr>\n",
              "    <tr>\n",
              "      <th>12</th>\n",
              "      <td>SF3079</td>\n",
              "      <td>iPhone</td>\n",
              "    </tr>\n",
              "  </tbody>\n",
              "</table>\n",
              "</div>\n",
              "      <button class=\"colab-df-convert\" onclick=\"convertToInteractive('df-8bb05240-d2ad-44ae-a2e4-948899a398bf')\"\n",
              "              title=\"Convert this dataframe to an interactive table.\"\n",
              "              style=\"display:none;\">\n",
              "        \n",
              "  <svg xmlns=\"http://www.w3.org/2000/svg\" height=\"24px\"viewBox=\"0 0 24 24\"\n",
              "       width=\"24px\">\n",
              "    <path d=\"M0 0h24v24H0V0z\" fill=\"none\"/>\n",
              "    <path d=\"M18.56 5.44l.94 2.06.94-2.06 2.06-.94-2.06-.94-.94-2.06-.94 2.06-2.06.94zm-11 1L8.5 8.5l.94-2.06 2.06-.94-2.06-.94L8.5 2.5l-.94 2.06-2.06.94zm10 10l.94 2.06.94-2.06 2.06-.94-2.06-.94-.94-2.06-.94 2.06-2.06.94z\"/><path d=\"M17.41 7.96l-1.37-1.37c-.4-.4-.92-.59-1.43-.59-.52 0-1.04.2-1.43.59L10.3 9.45l-7.72 7.72c-.78.78-.78 2.05 0 2.83L4 21.41c.39.39.9.59 1.41.59.51 0 1.02-.2 1.41-.59l7.78-7.78 2.81-2.81c.8-.78.8-2.07 0-2.86zM5.41 20L4 18.59l7.72-7.72 1.47 1.35L5.41 20z\"/>\n",
              "  </svg>\n",
              "      </button>\n",
              "      \n",
              "  <style>\n",
              "    .colab-df-container {\n",
              "      display:flex;\n",
              "      flex-wrap:wrap;\n",
              "      gap: 12px;\n",
              "    }\n",
              "\n",
              "    .colab-df-convert {\n",
              "      background-color: #E8F0FE;\n",
              "      border: none;\n",
              "      border-radius: 50%;\n",
              "      cursor: pointer;\n",
              "      display: none;\n",
              "      fill: #1967D2;\n",
              "      height: 32px;\n",
              "      padding: 0 0 0 0;\n",
              "      width: 32px;\n",
              "    }\n",
              "\n",
              "    .colab-df-convert:hover {\n",
              "      background-color: #E2EBFA;\n",
              "      box-shadow: 0px 1px 2px rgba(60, 64, 67, 0.3), 0px 1px 3px 1px rgba(60, 64, 67, 0.15);\n",
              "      fill: #174EA6;\n",
              "    }\n",
              "\n",
              "    [theme=dark] .colab-df-convert {\n",
              "      background-color: #3B4455;\n",
              "      fill: #D2E3FC;\n",
              "    }\n",
              "\n",
              "    [theme=dark] .colab-df-convert:hover {\n",
              "      background-color: #434B5C;\n",
              "      box-shadow: 0px 1px 3px 1px rgba(0, 0, 0, 0.15);\n",
              "      filter: drop-shadow(0px 1px 2px rgba(0, 0, 0, 0.3));\n",
              "      fill: #FFFFFF;\n",
              "    }\n",
              "  </style>\n",
              "\n",
              "      <script>\n",
              "        const buttonEl =\n",
              "          document.querySelector('#df-8bb05240-d2ad-44ae-a2e4-948899a398bf button.colab-df-convert');\n",
              "        buttonEl.style.display =\n",
              "          google.colab.kernel.accessAllowed ? 'block' : 'none';\n",
              "\n",
              "        async function convertToInteractive(key) {\n",
              "          const element = document.querySelector('#df-8bb05240-d2ad-44ae-a2e4-948899a398bf');\n",
              "          const dataTable =\n",
              "            await google.colab.kernel.invokeFunction('convertToInteractive',\n",
              "                                                     [key], {});\n",
              "          if (!dataTable) return;\n",
              "\n",
              "          const docLinkHtml = 'Like what you see? Visit the ' +\n",
              "            '<a target=\"_blank\" href=https://colab.research.google.com/notebooks/data_table.ipynb>data table notebook</a>'\n",
              "            + ' to learn more about interactive tables.';\n",
              "          element.innerHTML = '';\n",
              "          dataTable['output_type'] = 'display_data';\n",
              "          await google.colab.output.renderOutput(dataTable, element);\n",
              "          const docLink = document.createElement('div');\n",
              "          docLink.innerHTML = docLinkHtml;\n",
              "          element.appendChild(docLink);\n",
              "        }\n",
              "      </script>\n",
              "    </div>\n",
              "  </div>\n",
              "  "
            ]
          },
          "metadata": {},
          "execution_count": 48
        }
      ]
    },
    {
      "cell_type": "code",
      "source": [
        "# Print the summary statistics of the dataframe\n",
        "print(accelerometer_info.describe())\n",
        "print(phone_info.describe())"
      ],
      "metadata": {
        "colab": {
          "base_uri": "https://localhost:8080/"
        },
        "id": "9KQ1N31lLwjb",
        "outputId": "497d2311-c0cf-4b29-8c44-e1136a8bfde8"
      },
      "execution_count": 49,
      "outputs": [
        {
          "output_type": "stream",
          "name": "stdout",
          "text": [
            "               time             x             y             z\n",
            "count  1.048575e+06  1.048575e+06  1.048575e+06  1.048575e+06\n",
            "mean   1.493737e+12  7.631742e-03 -2.163123e-02  4.669918e-03\n",
            "std    2.062957e+09  7.722696e-01  9.481331e-01  1.349705e+00\n",
            "min    0.000000e+00 -2.295613e+01 -3.059311e+01 -4.236954e+01\n",
            "25%    1.493740e+12 -5.500000e-03 -2.400000e-03 -6.200000e-03\n",
            "50%    1.493740e+12  0.000000e+00  2.000000e-04  4.300000e-03\n",
            "75%    1.493740e+12  4.600000e-03  8.300000e-03  1.280000e-02\n",
            "max    1.493740e+12  2.801009e+01  1.862511e+01  3.481242e+01\n",
            "           pid phonetype\n",
            "count       13        13\n",
            "unique      13         2\n",
            "top     BK7610    iPhone\n",
            "freq         1        11\n"
          ]
        }
      ]
    },
    {
      "cell_type": "code",
      "source": [
        "# Calculate the mean of a specific column\n",
        "print(np.mean(accelerometer_info['time']))\n",
        "print(np.mean(accelerometer_info['x']))\n",
        "print(np.mean(accelerometer_info['y']))\n",
        "print(np.mean(accelerometer_info['z']))"
      ],
      "metadata": {
        "colab": {
          "base_uri": "https://localhost:8080/"
        },
        "id": "6HRNfE0NME6I",
        "outputId": "9a3fd628-82c4-4c3a-d9a8-a1c8415c4d11"
      },
      "execution_count": 50,
      "outputs": [
        {
          "output_type": "stream",
          "name": "stdout",
          "text": [
            "1493736936394.6309\n",
            "0.007631742344927162\n",
            "-0.021631228961523023\n",
            "0.004669918082534868\n"
          ]
        }
      ]
    },
    {
      "cell_type": "code",
      "source": [
        "# Calculate the median of a specific column\n",
        "print(np.median((accelerometer_info['time'])))\n",
        "print(np.median((accelerometer_info['x'])))\n",
        "print(np.median((accelerometer_info['y'])))\n",
        "print(np.median((accelerometer_info['z'])))\n"
      ],
      "metadata": {
        "colab": {
          "base_uri": "https://localhost:8080/"
        },
        "id": "09d8efVFM4QG",
        "outputId": "e806d4ba-3f3d-4add-8a48-d226b391cf41"
      },
      "execution_count": 51,
      "outputs": [
        {
          "output_type": "stream",
          "name": "stdout",
          "text": [
            "1493740000000.0\n",
            "0.0\n",
            "0.0002\n",
            "0.0043\n"
          ]
        }
      ]
    },
    {
      "cell_type": "code",
      "source": [
        "# Calculate the mode of a specific column\n",
        "print(accelerometer_info['time'].mode()[0])\n",
        "print(accelerometer_info['x'].mode()[0])\n",
        "print(accelerometer_info['y'].mode()[0])\n",
        "print(accelerometer_info['z'].mode()[0])"
      ],
      "metadata": {
        "colab": {
          "base_uri": "https://localhost:8080/"
        },
        "id": "9pUsgCJ8Ng1v",
        "outputId": "2cea47fb-8ef7-4572-86ca-ef469a10295b"
      },
      "execution_count": 52,
      "outputs": [
        {
          "output_type": "stream",
          "name": "stdout",
          "text": [
            "1493740000000.0\n",
            "0.0001\n",
            "0.0\n",
            "0.0065\n"
          ]
        }
      ]
    },
    {
      "cell_type": "code",
      "source": [
        "# Calculate the standard deviation of a specific column\n",
        "print(np.std(accelerometer_info['time']))\n",
        "print(np.std(accelerometer_info['x']))\n",
        "print(np.std(accelerometer_info['y']))\n",
        "print(np.std(accelerometer_info['z']))"
      ],
      "metadata": {
        "colab": {
          "base_uri": "https://localhost:8080/"
        },
        "id": "JJSsktPwOEQE",
        "outputId": "d54fa7da-194b-4dd0-9e93-18a5e4326bbf"
      },
      "execution_count": 53,
      "outputs": [
        {
          "output_type": "stream",
          "name": "stdout",
          "text": [
            "2062955641.5684502\n",
            "0.7722692403600552\n",
            "0.9481326210612685\n",
            "1.3497040657846335\n"
          ]
        }
      ]
    },
    {
      "cell_type": "markdown",
      "source": [
        " **b. Show Relationships between various attrtibutes**"
      ],
      "metadata": {
        "id": "6DbZcgTLOv_N"
      }
    },
    {
      "cell_type": "code",
      "source": [
        "accelerometer_info.head()"
      ],
      "metadata": {
        "colab": {
          "base_uri": "https://localhost:8080/",
          "height": 206
        },
        "id": "PZs5GyHGQbx0",
        "outputId": "c830a18e-188b-473a-e2fc-8f961ba8d78e"
      },
      "execution_count": 54,
      "outputs": [
        {
          "output_type": "execute_result",
          "data": {
            "text/plain": [
              "           time     pid       x       y       z\n",
              "0  0.000000e+00  JB3156  0.0000  0.0000  0.0000\n",
              "1  0.000000e+00  CC6740  0.0000  0.0000  0.0000\n",
              "2  1.493730e+12  SA0297  0.0758  0.0273 -0.0102\n",
              "3  1.493730e+12  SA0297 -0.0359  0.0794  0.0037\n",
              "4  1.493730e+12  SA0297 -0.2427 -0.0861 -0.0163"
            ],
            "text/html": [
              "\n",
              "  <div id=\"df-0b5ee880-893f-47b8-886f-2351a8b3b6e2\">\n",
              "    <div class=\"colab-df-container\">\n",
              "      <div>\n",
              "<style scoped>\n",
              "    .dataframe tbody tr th:only-of-type {\n",
              "        vertical-align: middle;\n",
              "    }\n",
              "\n",
              "    .dataframe tbody tr th {\n",
              "        vertical-align: top;\n",
              "    }\n",
              "\n",
              "    .dataframe thead th {\n",
              "        text-align: right;\n",
              "    }\n",
              "</style>\n",
              "<table border=\"1\" class=\"dataframe\">\n",
              "  <thead>\n",
              "    <tr style=\"text-align: right;\">\n",
              "      <th></th>\n",
              "      <th>time</th>\n",
              "      <th>pid</th>\n",
              "      <th>x</th>\n",
              "      <th>y</th>\n",
              "      <th>z</th>\n",
              "    </tr>\n",
              "  </thead>\n",
              "  <tbody>\n",
              "    <tr>\n",
              "      <th>0</th>\n",
              "      <td>0.000000e+00</td>\n",
              "      <td>JB3156</td>\n",
              "      <td>0.0000</td>\n",
              "      <td>0.0000</td>\n",
              "      <td>0.0000</td>\n",
              "    </tr>\n",
              "    <tr>\n",
              "      <th>1</th>\n",
              "      <td>0.000000e+00</td>\n",
              "      <td>CC6740</td>\n",
              "      <td>0.0000</td>\n",
              "      <td>0.0000</td>\n",
              "      <td>0.0000</td>\n",
              "    </tr>\n",
              "    <tr>\n",
              "      <th>2</th>\n",
              "      <td>1.493730e+12</td>\n",
              "      <td>SA0297</td>\n",
              "      <td>0.0758</td>\n",
              "      <td>0.0273</td>\n",
              "      <td>-0.0102</td>\n",
              "    </tr>\n",
              "    <tr>\n",
              "      <th>3</th>\n",
              "      <td>1.493730e+12</td>\n",
              "      <td>SA0297</td>\n",
              "      <td>-0.0359</td>\n",
              "      <td>0.0794</td>\n",
              "      <td>0.0037</td>\n",
              "    </tr>\n",
              "    <tr>\n",
              "      <th>4</th>\n",
              "      <td>1.493730e+12</td>\n",
              "      <td>SA0297</td>\n",
              "      <td>-0.2427</td>\n",
              "      <td>-0.0861</td>\n",
              "      <td>-0.0163</td>\n",
              "    </tr>\n",
              "  </tbody>\n",
              "</table>\n",
              "</div>\n",
              "      <button class=\"colab-df-convert\" onclick=\"convertToInteractive('df-0b5ee880-893f-47b8-886f-2351a8b3b6e2')\"\n",
              "              title=\"Convert this dataframe to an interactive table.\"\n",
              "              style=\"display:none;\">\n",
              "        \n",
              "  <svg xmlns=\"http://www.w3.org/2000/svg\" height=\"24px\"viewBox=\"0 0 24 24\"\n",
              "       width=\"24px\">\n",
              "    <path d=\"M0 0h24v24H0V0z\" fill=\"none\"/>\n",
              "    <path d=\"M18.56 5.44l.94 2.06.94-2.06 2.06-.94-2.06-.94-.94-2.06-.94 2.06-2.06.94zm-11 1L8.5 8.5l.94-2.06 2.06-.94-2.06-.94L8.5 2.5l-.94 2.06-2.06.94zm10 10l.94 2.06.94-2.06 2.06-.94-2.06-.94-.94-2.06-.94 2.06-2.06.94z\"/><path d=\"M17.41 7.96l-1.37-1.37c-.4-.4-.92-.59-1.43-.59-.52 0-1.04.2-1.43.59L10.3 9.45l-7.72 7.72c-.78.78-.78 2.05 0 2.83L4 21.41c.39.39.9.59 1.41.59.51 0 1.02-.2 1.41-.59l7.78-7.78 2.81-2.81c.8-.78.8-2.07 0-2.86zM5.41 20L4 18.59l7.72-7.72 1.47 1.35L5.41 20z\"/>\n",
              "  </svg>\n",
              "      </button>\n",
              "      \n",
              "  <style>\n",
              "    .colab-df-container {\n",
              "      display:flex;\n",
              "      flex-wrap:wrap;\n",
              "      gap: 12px;\n",
              "    }\n",
              "\n",
              "    .colab-df-convert {\n",
              "      background-color: #E8F0FE;\n",
              "      border: none;\n",
              "      border-radius: 50%;\n",
              "      cursor: pointer;\n",
              "      display: none;\n",
              "      fill: #1967D2;\n",
              "      height: 32px;\n",
              "      padding: 0 0 0 0;\n",
              "      width: 32px;\n",
              "    }\n",
              "\n",
              "    .colab-df-convert:hover {\n",
              "      background-color: #E2EBFA;\n",
              "      box-shadow: 0px 1px 2px rgba(60, 64, 67, 0.3), 0px 1px 3px 1px rgba(60, 64, 67, 0.15);\n",
              "      fill: #174EA6;\n",
              "    }\n",
              "\n",
              "    [theme=dark] .colab-df-convert {\n",
              "      background-color: #3B4455;\n",
              "      fill: #D2E3FC;\n",
              "    }\n",
              "\n",
              "    [theme=dark] .colab-df-convert:hover {\n",
              "      background-color: #434B5C;\n",
              "      box-shadow: 0px 1px 3px 1px rgba(0, 0, 0, 0.15);\n",
              "      filter: drop-shadow(0px 1px 2px rgba(0, 0, 0, 0.3));\n",
              "      fill: #FFFFFF;\n",
              "    }\n",
              "  </style>\n",
              "\n",
              "      <script>\n",
              "        const buttonEl =\n",
              "          document.querySelector('#df-0b5ee880-893f-47b8-886f-2351a8b3b6e2 button.colab-df-convert');\n",
              "        buttonEl.style.display =\n",
              "          google.colab.kernel.accessAllowed ? 'block' : 'none';\n",
              "\n",
              "        async function convertToInteractive(key) {\n",
              "          const element = document.querySelector('#df-0b5ee880-893f-47b8-886f-2351a8b3b6e2');\n",
              "          const dataTable =\n",
              "            await google.colab.kernel.invokeFunction('convertToInteractive',\n",
              "                                                     [key], {});\n",
              "          if (!dataTable) return;\n",
              "\n",
              "          const docLinkHtml = 'Like what you see? Visit the ' +\n",
              "            '<a target=\"_blank\" href=https://colab.research.google.com/notebooks/data_table.ipynb>data table notebook</a>'\n",
              "            + ' to learn more about interactive tables.';\n",
              "          element.innerHTML = '';\n",
              "          dataTable['output_type'] = 'display_data';\n",
              "          await google.colab.output.renderOutput(dataTable, element);\n",
              "          const docLink = document.createElement('div');\n",
              "          docLink.innerHTML = docLinkHtml;\n",
              "          element.appendChild(docLink);\n",
              "        }\n",
              "      </script>\n",
              "    </div>\n",
              "  </div>\n",
              "  "
            ]
          },
          "metadata": {},
          "execution_count": 54
        }
      ]
    },
    {
      "cell_type": "code",
      "source": [
        "phone_info.head()"
      ],
      "metadata": {
        "colab": {
          "base_uri": "https://localhost:8080/",
          "height": 206
        },
        "id": "Jzw2YyG2Qx5b",
        "outputId": "ee6d5fe9-da3b-4242-a42b-84c6c0762573"
      },
      "execution_count": 55,
      "outputs": [
        {
          "output_type": "execute_result",
          "data": {
            "text/plain": [
              "      pid phonetype\n",
              "0  BK7610    iPhone\n",
              "1  BU4707    iPhone\n",
              "2  CC6740   Android\n",
              "3  DC6359    iPhone\n",
              "4  DK3500    iPhone"
            ],
            "text/html": [
              "\n",
              "  <div id=\"df-e81b4ab3-d2dd-4353-8bb7-cf9934473b75\">\n",
              "    <div class=\"colab-df-container\">\n",
              "      <div>\n",
              "<style scoped>\n",
              "    .dataframe tbody tr th:only-of-type {\n",
              "        vertical-align: middle;\n",
              "    }\n",
              "\n",
              "    .dataframe tbody tr th {\n",
              "        vertical-align: top;\n",
              "    }\n",
              "\n",
              "    .dataframe thead th {\n",
              "        text-align: right;\n",
              "    }\n",
              "</style>\n",
              "<table border=\"1\" class=\"dataframe\">\n",
              "  <thead>\n",
              "    <tr style=\"text-align: right;\">\n",
              "      <th></th>\n",
              "      <th>pid</th>\n",
              "      <th>phonetype</th>\n",
              "    </tr>\n",
              "  </thead>\n",
              "  <tbody>\n",
              "    <tr>\n",
              "      <th>0</th>\n",
              "      <td>BK7610</td>\n",
              "      <td>iPhone</td>\n",
              "    </tr>\n",
              "    <tr>\n",
              "      <th>1</th>\n",
              "      <td>BU4707</td>\n",
              "      <td>iPhone</td>\n",
              "    </tr>\n",
              "    <tr>\n",
              "      <th>2</th>\n",
              "      <td>CC6740</td>\n",
              "      <td>Android</td>\n",
              "    </tr>\n",
              "    <tr>\n",
              "      <th>3</th>\n",
              "      <td>DC6359</td>\n",
              "      <td>iPhone</td>\n",
              "    </tr>\n",
              "    <tr>\n",
              "      <th>4</th>\n",
              "      <td>DK3500</td>\n",
              "      <td>iPhone</td>\n",
              "    </tr>\n",
              "  </tbody>\n",
              "</table>\n",
              "</div>\n",
              "      <button class=\"colab-df-convert\" onclick=\"convertToInteractive('df-e81b4ab3-d2dd-4353-8bb7-cf9934473b75')\"\n",
              "              title=\"Convert this dataframe to an interactive table.\"\n",
              "              style=\"display:none;\">\n",
              "        \n",
              "  <svg xmlns=\"http://www.w3.org/2000/svg\" height=\"24px\"viewBox=\"0 0 24 24\"\n",
              "       width=\"24px\">\n",
              "    <path d=\"M0 0h24v24H0V0z\" fill=\"none\"/>\n",
              "    <path d=\"M18.56 5.44l.94 2.06.94-2.06 2.06-.94-2.06-.94-.94-2.06-.94 2.06-2.06.94zm-11 1L8.5 8.5l.94-2.06 2.06-.94-2.06-.94L8.5 2.5l-.94 2.06-2.06.94zm10 10l.94 2.06.94-2.06 2.06-.94-2.06-.94-.94-2.06-.94 2.06-2.06.94z\"/><path d=\"M17.41 7.96l-1.37-1.37c-.4-.4-.92-.59-1.43-.59-.52 0-1.04.2-1.43.59L10.3 9.45l-7.72 7.72c-.78.78-.78 2.05 0 2.83L4 21.41c.39.39.9.59 1.41.59.51 0 1.02-.2 1.41-.59l7.78-7.78 2.81-2.81c.8-.78.8-2.07 0-2.86zM5.41 20L4 18.59l7.72-7.72 1.47 1.35L5.41 20z\"/>\n",
              "  </svg>\n",
              "      </button>\n",
              "      \n",
              "  <style>\n",
              "    .colab-df-container {\n",
              "      display:flex;\n",
              "      flex-wrap:wrap;\n",
              "      gap: 12px;\n",
              "    }\n",
              "\n",
              "    .colab-df-convert {\n",
              "      background-color: #E8F0FE;\n",
              "      border: none;\n",
              "      border-radius: 50%;\n",
              "      cursor: pointer;\n",
              "      display: none;\n",
              "      fill: #1967D2;\n",
              "      height: 32px;\n",
              "      padding: 0 0 0 0;\n",
              "      width: 32px;\n",
              "    }\n",
              "\n",
              "    .colab-df-convert:hover {\n",
              "      background-color: #E2EBFA;\n",
              "      box-shadow: 0px 1px 2px rgba(60, 64, 67, 0.3), 0px 1px 3px 1px rgba(60, 64, 67, 0.15);\n",
              "      fill: #174EA6;\n",
              "    }\n",
              "\n",
              "    [theme=dark] .colab-df-convert {\n",
              "      background-color: #3B4455;\n",
              "      fill: #D2E3FC;\n",
              "    }\n",
              "\n",
              "    [theme=dark] .colab-df-convert:hover {\n",
              "      background-color: #434B5C;\n",
              "      box-shadow: 0px 1px 3px 1px rgba(0, 0, 0, 0.15);\n",
              "      filter: drop-shadow(0px 1px 2px rgba(0, 0, 0, 0.3));\n",
              "      fill: #FFFFFF;\n",
              "    }\n",
              "  </style>\n",
              "\n",
              "      <script>\n",
              "        const buttonEl =\n",
              "          document.querySelector('#df-e81b4ab3-d2dd-4353-8bb7-cf9934473b75 button.colab-df-convert');\n",
              "        buttonEl.style.display =\n",
              "          google.colab.kernel.accessAllowed ? 'block' : 'none';\n",
              "\n",
              "        async function convertToInteractive(key) {\n",
              "          const element = document.querySelector('#df-e81b4ab3-d2dd-4353-8bb7-cf9934473b75');\n",
              "          const dataTable =\n",
              "            await google.colab.kernel.invokeFunction('convertToInteractive',\n",
              "                                                     [key], {});\n",
              "          if (!dataTable) return;\n",
              "\n",
              "          const docLinkHtml = 'Like what you see? Visit the ' +\n",
              "            '<a target=\"_blank\" href=https://colab.research.google.com/notebooks/data_table.ipynb>data table notebook</a>'\n",
              "            + ' to learn more about interactive tables.';\n",
              "          element.innerHTML = '';\n",
              "          dataTable['output_type'] = 'display_data';\n",
              "          await google.colab.output.renderOutput(dataTable, element);\n",
              "          const docLink = document.createElement('div');\n",
              "          docLink.innerHTML = docLinkHtml;\n",
              "          element.appendChild(docLink);\n",
              "        }\n",
              "      </script>\n",
              "    </div>\n",
              "  </div>\n",
              "  "
            ]
          },
          "metadata": {},
          "execution_count": 55
        }
      ]
    },
    {
      "cell_type": "code",
      "source": [
        "import matplotlib.pyplot as plt\n",
        "\n",
        "x = accelerometer_info['time']\n",
        "y = accelerometer_info['pid']\n",
        "\n",
        "plt.scatter(x, y)\n",
        "plt.title('Scatter Plot for accelerometer_info')\n",
        "plt.xlabel('Time')\n",
        "plt.ylabel('pid')\n",
        "plt.show()\n",
        "\n",
        "a = phone_info['phonetype']\n",
        "b = phone_info['pid']\n",
        "\n",
        "plt.scatter(a,b)\n",
        "plt.title('Scatter Plot for phone_info')\n",
        "plt.xlabel('phonetype')\n",
        "plt.ylabel('pid')\n",
        "plt.show()"
      ],
      "metadata": {
        "colab": {
          "base_uri": "https://localhost:8080/",
          "height": 927
        },
        "id": "1WS0y5HuO2Ts",
        "outputId": "9b449539-e8cc-46f6-acdc-b96f0e56d458"
      },
      "execution_count": 56,
      "outputs": [
        {
          "output_type": "display_data",
          "data": {
            "text/plain": [
              "<Figure size 640x480 with 1 Axes>"
            ],
            "image/png": "[encoded data removed]"
          },
          "metadata": {}
        },
        {
          "output_type": "display_data",
          "data": {
            "text/plain": [
              "<Figure size 640x480 with 1 Axes>"
            ],
            "image/png": "[encoded data removed]"
          },
          "metadata": {}
        }
      ]
    },
    {
      "cell_type": "code",
      "source": [
        "import matplotlib.pyplot as plt\n",
        "\n",
        "x = accelerometer_info['time']\n",
        "y = accelerometer_info['pid']\n",
        "\n",
        "plt.plot(x, y)\n",
        "plt.title('Line Plot for accelerometer_info')\n",
        "plt.xlabel('Time')\n",
        "plt.ylabel('pid')\n",
        "plt.show()\n",
        "\n",
        "a = phone_info['phonetype']\n",
        "b = phone_info['pid']\n",
        "\n",
        "plt.plot(a,b)\n",
        "plt.title('Line Plot for phone_info')\n",
        "plt.xlabel('phonetype')\n",
        "plt.ylabel('pid')\n",
        "plt.show()"
      ],
      "metadata": {
        "colab": {
          "base_uri": "https://localhost:8080/",
          "height": 927
        },
        "id": "V1CxWuuWRJ-e",
        "outputId": "8a0235cc-39f6-4f8b-df92-88e8d43d591c"
      },
      "execution_count": 57,
      "outputs": [
        {
          "output_type": "display_data",
          "data": {
            "text/plain": [
              "<Figure size 640x480 with 1 Axes>"
            ],
            "image/png": "[encoded data removed]"
          },
          "metadata": {}
        },
        {
          "output_type": "display_data",
          "data": {
            "text/plain": [
              "<Figure size 640x480 with 1 Axes>"
            ],
            "image/png": "[encoded data removed]"
          },
          "metadata": {}
        }
      ]
    },
    {
      "cell_type": "markdown",
      "source": [
        "**c. Propose 3-4 Analytical questions about the data and show answers to them**"
      ],
      "metadata": {
        "id": "EvpEbtBiU02W"
      }
    },
    {
      "cell_type": "markdown",
      "source": [
        "1. How many phonetype participant are present ?\n",
        "\n",
        "Ans.  There are two phonetype participant are present of Andriod and iPhone.\n",
        "\n",
        "\n",
        "2. How many participant are there?\n",
        "\n",
        "Ans. There are total 13 participants are present as per the pid.\n",
        "\n",
        "\n",
        "3. Which pid is at the top for drinking?\n",
        "\n",
        "Ans. pid BK7610 and phonetype iPhone is at the top for drinking \n",
        "\n",
        "\n",
        "4.  What is the maximum time taken by the participant?\n",
        "\n",
        "Ans. The maximum time taken by the participant is 1.493740e+12"
      ],
      "metadata": {
        "id": "5WCmlR_EVUkK"
      }
    },
    {
      "cell_type": "markdown",
      "source": [
        "**d. Check if all attributes are properly formed find missing values, outliers etc....**"
      ],
      "metadata": {
        "id": "_Y43FY1Gd_C2"
      }
    },
    {
      "cell_type": "code",
      "source": [
        "# Finding missing values using isnull() function in pandas library\n",
        "print(accelerometer_info.isnull().sum())\n",
        "print(phone_info.isnull().sum())"
      ],
      "metadata": {
        "colab": {
          "base_uri": "https://localhost:8080/"
        },
        "id": "vIBWdkVQeeYN",
        "outputId": "2535fb4f-b565-4d32-cc2b-c0a32c673c11"
      },
      "execution_count": 58,
      "outputs": [
        {
          "output_type": "stream",
          "name": "stdout",
          "text": [
            "time    0\n",
            "pid     0\n",
            "x       0\n",
            "y       0\n",
            "z       0\n",
            "dtype: int64\n",
            "pid          0\n",
            "phonetype    0\n",
            "dtype: int64\n"
          ]
        }
      ]
    },
    {
      "cell_type": "markdown",
      "source": [
        "**Detection of Outliers**"
      ],
      "metadata": {
        "id": "83VieaNsoENc"
      }
    },
    {
      "cell_type": "code",
      "source": [
        "#Finding outliers using boxplot\n",
        "import seaborn as sns\n",
        "import pandas as pd\n",
        "sns.boxplot(x=accelerometer_info['x'])"
      ],
      "metadata": {
        "colab": {
          "base_uri": "https://localhost:8080/",
          "height": 466
        },
        "id": "aWl9WhsCfjAW",
        "outputId": "e2c2ab3a-376a-49bc-a409-7c6e33510d6e"
      },
      "execution_count": 59,
      "outputs": [
        {
          "output_type": "execute_result",
          "data": {
            "text/plain": [
              "<Axes: xlabel='x'>"
            ]
          },
          "metadata": {},
          "execution_count": 59
        },
        {
          "output_type": "display_data",
          "data": {
            "text/plain": [
              "<Figure size 640x480 with 1 Axes>"
            ],
            "image/png": "[encoded data removed]"
          },
          "metadata": {}
        }
      ]
    },
    {
      "cell_type": "code",
      "source": [
        "# Position of the Outlier\n",
        "import numpy as np\n",
        "print(np.where(accelerometer_info['x']>10))\n"
      ],
      "metadata": {
        "colab": {
          "base_uri": "https://localhost:8080/"
        },
        "id": "BE2Mom69hYiO",
        "outputId": "d6b61523-50b6-4f14-c754-f5c476312ef7"
      },
      "execution_count": 60,
      "outputs": [
        {
          "output_type": "stream",
          "name": "stdout",
          "text": [
            "(array([ 595225,  595234,  595240, ..., 1046103, 1046207, 1046864]),)\n"
          ]
        }
      ]
    },
    {
      "cell_type": "markdown",
      "source": [
        "**Treatment of Outliers**"
      ],
      "metadata": {
        "id": "zbx08jcloMmx"
      }
    },
    {
      "cell_type": "code",
      "source": [
        "numeric_cols = accelerometer_info.select_dtypes(include=[float, int]).columns\n",
        "q1 = accelerometer_info[numeric_cols].quantile(0.25)\n",
        "q3 = accelerometer_info[numeric_cols].quantile(0.75)\n",
        "iqr = q3 - q1\n",
        "lower_bound = q1 - 1.5 * iqr\n",
        "upper_bound = q3 + 1.5 * iqr"
      ],
      "metadata": {
        "id": "-HpRqE50neAo"
      },
      "execution_count": 61,
      "outputs": []
    },
    {
      "cell_type": "code",
      "source": [
        "accelerometer_info[numeric_cols] = accelerometer_info[numeric_cols].clip(lower=lower_bound, upper=upper_bound, axis=1)\n"
      ],
      "metadata": {
        "id": "kAM-QIienibG"
      },
      "execution_count": 62,
      "outputs": []
    },
    {
      "cell_type": "code",
      "source": [
        "accelerometer_info.to_csv('cleaned.csv', index=False)\n"
      ],
      "metadata": {
        "id": "zY2TqT53nl4H"
      },
      "execution_count": 63,
      "outputs": []
    },
    {
      "cell_type": "code",
      "source": [
        "#Finding outliers using boxplot\n",
        "import seaborn as sns\n",
        "import pandas as pd\n",
        "sns.boxplot(x=accelerometer_info['x'])"
      ],
      "metadata": {
        "colab": {
          "base_uri": "https://localhost:8080/",
          "height": 466
        },
        "id": "uBzeid4Bn56C",
        "outputId": "0f801856-a38f-4049-cf33-b303b199b9e4"
      },
      "execution_count": 64,
      "outputs": [
        {
          "output_type": "execute_result",
          "data": {
            "text/plain": [
              "<Axes: xlabel='x'>"
            ]
          },
          "metadata": {},
          "execution_count": 64
        },
        {
          "output_type": "display_data",
          "data": {
            "text/plain": [
              "<Figure size 640x480 with 1 Axes>"
            ],
            "image/png": "[encoded data removed]"
          },
          "metadata": {}
        }
      ]
    },
    {
      "cell_type": "code",
      "source": [
        "# Position of the Outlier\n",
        "import numpy as np\n",
        "print(np.where(accelerometer_info['x']>10))"
      ],
      "metadata": {
        "colab": {
          "base_uri": "https://localhost:8080/"
        },
        "id": "YieuCQQpn9Xm",
        "outputId": "4b2d25e5-7ce9-4c8a-c89a-a29a5f90626f"
      },
      "execution_count": 65,
      "outputs": [
        {
          "output_type": "stream",
          "name": "stdout",
          "text": [
            "(array([], dtype=int64),)\n"
          ]
        }
      ]
    },
    {
      "cell_type": "markdown",
      "source": [
        "**e. Find what kind of ML Problem you can define over this data and define it. Propose 2 distinct ML Algorithm based solutions.**"
      ],
      "metadata": {
        "id": "_BKYngJLoeAR"
      }
    },
    {
      "cell_type": "markdown",
      "source": [
        "**Ans.** The given problem describes a regression problem. The objective is to predict the heavy drinking episodes, users drinking habits,accelerometer value, time, phoetype, and other characteristics etc.\n",
        "\n",
        "\n",
        "**Proposed Solutions:**\n",
        "\n",
        "**Linear Regression** - In this approach, we can utilize linear regression to train a model for predicting the heavy drinking episodes. The linear regression model will learn the correlation between the accelerometer value and time. We will feed training data to the model to train it, and then we can use it to predict the accelerometer value of unseen data.\n",
        "\n",
        "**Random Forest Regression** - To build a more accurate predictive model, we can use the Random Forest algorithm, which is an ensemble learning technique that combines multiple decision trees with bootstrap aggregating. In Random Forest Regression, multiple decision trees will split the data into smaller subsets, and each split will generate a prediction. The final prediction will be the average of all predicted values, providing more accurate results than the above linear regression model."
      ],
      "metadata": {
        "id": "rxftoMhmpRe7"
      }
    }
  ]
}